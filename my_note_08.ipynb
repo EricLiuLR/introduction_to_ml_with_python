{
 "cells": [
  {
   "cell_type": "markdown",
   "metadata": {},
   "source": [
    "# Wrapping Up"
   ]
  },
  {
   "cell_type": "markdown",
   "metadata": {},
   "source": [
    "- some final words of advice\n",
    "- some additional resources\n",
    "- suggestions on how to further improve machine learning and data science skills"
   ]
  },
  {
   "cell_type": "markdown",
   "metadata": {},
   "source": [
    "### Approaching a Machine Learning Problem"
   ]
  },
  {
   "cell_type": "markdown",
   "metadata": {},
   "source": [
    "- The ml algorithm is usually only a small part of a larger data analysis and decision-making process\n",
    "- To make effective use of machine learning, we need to take a step back and consider the problem at large"
   ]
  },
  {
   "cell_type": "markdown",
   "metadata": {},
   "source": [
    " - What kind of questions you want to answer?\n",
    " - Do you want to do exploratory analysis and just see if you find something interesting in the data?\n",
    " - Do you already have a particular goal in your mind?\n",
    " - If you have a goal, before building a system to ahieve it, you should first think about how to define and measure success and what the impact of a successful solution would be."
   ]
  },
  {
   "cell_type": "markdown",
   "metadata": {},
   "source": [
    "There are several things you need to confirm before building an algorithm:\n",
    "- There is a clear problem to solve\n",
    "- The solution might have a significant impact for sth important\n",
    "- You have the right information to evaluate the success"
   ]
  },
  {
   "cell_type": "markdown",
   "metadata": {},
   "source": [
    "Model building is often part of a feedback circle of collecting new data, cleaning data, building models and analyzing models.\n",
    "\n",
    "Analyzing the mistakes a model makes can often be informative about what is missing in the data, what additional data could be collected, or how the task could be reformulated to make machine learning more effective.\n",
    "\n",
    "Collecting more or different data or changing the task formulation slightly might provide a much higher payoff than renning endless grid searches to tune parameters."
   ]
  }
 ],
 "metadata": {
  "kernelspec": {
   "display_name": "Python 3",
   "language": "python",
   "name": "python3"
  },
  "language_info": {
   "codemirror_mode": {
    "name": "ipython",
    "version": 3
   },
   "file_extension": ".py",
   "mimetype": "text/x-python",
   "name": "python",
   "nbconvert_exporter": "python",
   "pygments_lexer": "ipython3",
   "version": "3.7.1"
  }
 },
 "nbformat": 4,
 "nbformat_minor": 2
}
